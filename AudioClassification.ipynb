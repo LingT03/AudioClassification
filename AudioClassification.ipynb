{
 "cells": [
  {
   "cell_type": "markdown",
   "id": "afaebf88",
   "metadata": {},
   "source": [
    "# Notebook for Audio Classification Models\n",
    "**Author : Ling Thang**\n",
    "**Created on : 4/20/2025**"
   ]
  },
  {
   "cell_type": "markdown",
   "id": "9eb0ab58",
   "metadata": {},
   "source": [
    "### Libraries"
   ]
  },
  {
   "cell_type": "code",
   "execution_count": 1,
   "id": "7e3b478b",
   "metadata": {},
   "outputs": [],
   "source": [
    "# general imports\n",
    "import torch\n",
    "import numpy as np\n",
    "import os, random\n",
    "import copy, math, time\n",
    "\n",
    "# torch imports\n",
    "import torch.nn as nn\n",
    "import torch.nn.functional as F, torch.optim as optim\n",
    "import torchvision.transforms as T\n",
    "from torch.utils.data import Dataset\n",
    "from torch.utils.data import Subset, DataLoader\n",
    "import torch.optim as optim\n",
    "\n",
    "# misc imports\n",
    "from tqdm.auto import tqdm\n",
    "from sklearn.model_selection import StratifiedShuffleSplit\n",
    "from tqdm.auto import tqdm\n",
    "from sklearn.metrics import classification_report, confusion_matrix\n",
    "import seaborn as sns, matplotlib.pyplot as plt\n"
   ]
  },
  {
   "cell_type": "markdown",
   "id": "29ba9dab",
   "metadata": {},
   "source": [
    "# Define the dataset"
   ]
  },
  {
   "cell_type": "code",
   "execution_count": 2,
   "id": "98dcb5ce",
   "metadata": {},
   "outputs": [],
   "source": [
    "class SpectrogramDataset(Dataset):\n",
    "    def __init__(self, root_dir, label_to_id, transform=None):\n",
    "        self.paths, self.labels = [], []\n",
    "        for cls_name, idx in label_to_id.items():\n",
    "            cls_dir = os.path.join(root_dir, cls_name)\n",
    "            for f in os.listdir(cls_dir):\n",
    "                if f.endswith(\".npy\"):\n",
    "                    self.paths.append(os.path.join(cls_dir, f))\n",
    "                    self.labels.append(idx)\n",
    "        self.transform = transform\n",
    "\n",
    "    def __len__(self): return len(self.paths)\n",
    "\n",
    "    def __getitem__(self, i):\n",
    "        spec = np.load(self.paths[i])\n",
    "        spec = torch.from_numpy(spec).float().unsqueeze(0)\n",
    "        if self.transform: spec = self.transform(spec)\n",
    "        return spec, self.labels[i]\n",
    "\n",
    "class MinMaxNorm:\n",
    "    def __call__(self, x):\n",
    "        return (x - x.min()) / (x.max() - x.min() + 1e-6)\n",
    "\n",
    "class SpecAugment:\n",
    "    def __init__(self, time_mask=30, freq_mask=12):\n",
    "        self.time_mask, self.freq_mask = time_mask, freq_mask\n",
    "    def __call__(self, x):\n",
    "        _, n_mels, T = x.shape\n",
    "        t = random.randint(0, self.time_mask)\n",
    "        t0 = random.randint(0, max(1, T - t))\n",
    "        x[:, :, t0:t0+t] = 0\n",
    "        f = random.randint(0, self.freq_mask)\n",
    "        f0 = random.randint(0, max(1, n_mels - f))\n",
    "        x[:, f0:f0+f, :] = 0\n",
    "        return x"
   ]
  },
  {
   "cell_type": "markdown",
   "id": "888f7c48",
   "metadata": {},
   "source": [
    "# Train / Validation Split + DataLoader"
   ]
  },
  {
   "cell_type": "code",
   "execution_count": 3,
   "id": "461bf7ea",
   "metadata": {},
   "outputs": [
    {
     "name": "stdout",
     "output_type": "stream",
     "text": [
      "{'BellsHorns': 0, 'Keyboards': 1, 'Other': 2, 'Percussion': 3, 'Strings': 4, 'Wind': 5}\n"
     ]
    }
   ],
   "source": [
    "ROOT = 'audioset_mel_spectrograms_fast'       # <‑ adjust if you renamed the dir\n",
    "\n",
    "# 1) get every sub‑directory name (ignore hidden files like .DS_Store)\n",
    "class_names = sorted(\n",
    "    d for d in os.listdir(ROOT)\n",
    "    if os.path.isdir(os.path.join(ROOT, d))\n",
    ")\n",
    "\n",
    "# 2) assign consecutive integers\n",
    "label_to_id = {cls: idx for idx, cls in enumerate(class_names)}\n",
    "print(label_to_id)\n",
    "\n",
    "# 3) (optional) save for reproducibility\n",
    "os.makedirs('data', exist_ok=True)\n",
    "np.save('data/label_to_id.npy', label_to_id, allow_pickle=True)"
   ]
  },
  {
   "cell_type": "code",
   "execution_count": 4,
   "id": "152ff55b",
   "metadata": {},
   "outputs": [
    {
     "name": "stdout",
     "output_type": "stream",
     "text": [
      "Classes: ['Strings', 'BellsHorns', 'Other', 'Keyboards', 'Wind', 'Percussion']\n",
      "Sample spec   : audioset_mel_spectrograms_fast/Strings/2XC0ckiiuq4_50_60_Banjo.npy\n",
      "Spec shape    : (128, 801)\n",
      "Min/Max       : -80.0 0.0\n"
     ]
    }
   ],
   "source": [
    "import os, numpy as np, torch\n",
    "ROOT = 'audioset_mel_spectrograms_fast'\n",
    "class_names = [d for d in os.listdir(ROOT) if os.path.isdir(os.path.join(ROOT,d))]\n",
    "print(\"Classes:\", class_names)\n",
    "\n",
    "sample = os.path.join(ROOT, class_names[0], os.listdir(os.path.join(ROOT,class_names[0]))[0])\n",
    "spec = np.load(sample)\n",
    "print(\"Sample spec   :\", sample)\n",
    "print(\"Spec shape    :\", spec.shape)    # expect (128, ~98)\n",
    "print(\"Min/Max       :\", spec.min(), spec.max())"
   ]
  },
  {
   "cell_type": "code",
   "execution_count": 9,
   "id": "d1fded43",
   "metadata": {},
   "outputs": [],
   "source": [
    "train_tf = T.Compose([MinMaxNorm(), SpecAugment()])\n",
    "val_tf   = MinMaxNorm()\n",
    "full_ds = SpectrogramDataset(ROOT, label_to_id)\n",
    "\n",
    "label_to_id = np.load('data/label_to_id.npy', allow_pickle=True).item()\n",
    "\n",
    "full_ds = SpectrogramDataset(ROOT, label_to_id)          # labels via ds.labels\n",
    "labels  = full_ds.labels\n",
    "\n",
    "sss = StratifiedShuffleSplit(test_size=0.15, random_state=42)\n",
    "train_idx, val_idx = next(sss.split(np.zeros(len(labels)), labels))\n",
    "\n",
    "train_ds = Subset(full_ds, train_idx)\n",
    "val_ds   = Subset(full_ds, val_idx)\n",
    "train_ds.dataset.transform = train_tf   # plug transforms in\n",
    "val_ds.dataset.transform   = val_tf\n",
    "\n",
    "train_loader = DataLoader(train_ds, batch_size=32, shuffle=True,  num_workers=0)\n",
    "val_loader   = DataLoader(val_ds,   batch_size=32, shuffle=False, num_workers=0)"
   ]
  },
  {
   "cell_type": "markdown",
   "id": "ab073e3c",
   "metadata": {},
   "source": [
    "# Model Definition"
   ]
  },
  {
   "cell_type": "code",
   "execution_count": 10,
   "id": "a6e556e6",
   "metadata": {},
   "outputs": [],
   "source": [
    "class LaraCNN(nn.Module):\n",
    "    def __init__(self, num_classes=4):\n",
    "        \"\"\"\n",
    "        Recreates the CNN architecture from Lara's paper for audio classification.\n",
    "\n",
    "        Args:\n",
    "            num_classes (int): The number of output classes. Lara used 4 (Piano, Drums, Flute, Other).\n",
    "        \"\"\"\n",
    "        super(LaraCNN, self).__init__()\n",
    "        # Input shape: (batch_size, 1, 128, 800) - (batch_size, channels, height, width)\n",
    "        # This represents the mel-spectrogram, with 1 channel, 128 mel bins, and 800 time frames.\n",
    "\n",
    "        # Block 1: Two Convolutional Layers -> BatchNorm -> ReLU -> MaxPool\n",
    "        # As per the paper: kernel size 2, stride 1, padding 0 for Conv layers.\n",
    "        # MaxPool kernel size 2.\n",
    "        # Filter counts: 8, 8\n",
    "        self.conv1a = nn.Conv2d(in_channels=1, out_channels=8, kernel_size=2, stride=1, padding=0)\n",
    "        self.conv1b = nn.Conv2d(in_channels=8, out_channels=8, kernel_size=2, stride=1, padding=0)\n",
    "        self.bn1 = nn.BatchNorm2d(8)\n",
    "        self.pool1 = nn.MaxPool2d(kernel_size=2)\n",
    "\n",
    "        # Block 2: Two Convolutional Layers -> BatchNorm -> ReLU -> MaxPool\n",
    "        # As per the paper: kernel size 2, stride 1, padding 0 for Conv layers.\n",
    "        # MaxPool kernel size 2.\n",
    "        # Filter counts: 16, 16\n",
    "        self.conv2a = nn.Conv2d(in_channels=8, out_channels=16, kernel_size=2, stride=1, padding=0)\n",
    "        self.conv2b = nn.Conv2d(in_channels=16, out_channels=16, kernel_size=2, stride=1, padding=0)\n",
    "        self.bn2 = nn.BatchNorm2d(16)\n",
    "        self.pool2 = nn.MaxPool2d(kernel_size=2)\n",
    "\n",
    "        # Block 3: Two Convolutional Layers -> BatchNorm -> ReLU -> MaxPool\n",
    "        # As per the paper: kernel size 2, stride 1, padding 0 for Conv layers.\n",
    "        # MaxPool kernel size 2.\n",
    "        # Filter counts: 32, 32\n",
    "        self.conv3a = nn.Conv2d(in_channels=16, out_channels=32, kernel_size=2, stride=1, padding=0)\n",
    "        self.conv3b = nn.Conv2d(in_channels=32, out_channels=32, kernel_size=2, stride=1, padding=0)\n",
    "        self.bn3 = nn.BatchNorm2d(32)\n",
    "        self.pool3 = nn.MaxPool2d(kernel_size=2)\n",
    "\n",
    "        # Fully Connected Layer\n",
    "        # We need to calculate the size of the flattened feature map after the last pooling layer.\n",
    "        # Input shape: (batch_size, 1, 128, 800)\n",
    "        # After conv1a (k2, s1, p0): 128-1 = 127, 800-1 = 799. Shape (batch_size, 8, 127, 799)\n",
    "        # After conv1b (k2, s1, p0): 127-1 = 126, 799-1 = 798. Shape (batch_size, 8, 126, 798)\n",
    "        # After pool1 (k2): 126/2 = 63, 798/2 = 399. Shape (batch_size, 8, 63, 399)\n",
    "        # After conv2a (k2, s1, p0): 63-1 = 62, 399-1 = 398. Shape (batch_size, 16, 62, 398)\n",
    "        # After conv2b (k2, s1, p0): 62-1 = 61, 398-1 = 397. Shape (batch_size, 16, 61, 397)\n",
    "        # After pool2 (k2): floor(61/2) = 30, floor(397/2) = 198. Shape (batch_size, 16, 30, 198)\n",
    "        # After conv3a (k2, s1, p0): 30-1 = 29, 198-1 = 197. Shape (batch_size, 32, 29, 197)\n",
    "        # After conv3b (k2, s1, p0): 29-1 = 28, 197-1 = 196. Shape (batch_size, 32, 28, 196)\n",
    "        # After pool3 (k2): 28/2 = 14, 196/2 = 98. Shape (batch_size, 32, 14, 98)\n",
    "        self.flattened_size = 32 * 14 * 98\n",
    "\n",
    "        # The text mentions filter counts up to 64, 64 which are not used in the Conv blocks as described.\n",
    "        # Based on the diagram, there's a Flatten layer followed by a single FC layer.\n",
    "        # The output of the final FC layer is 4 (for num_classes).\n",
    "        self.fc1 = nn.Linear(self.flattened_size, num_classes)\n",
    "\n",
    "        # Initialize weights using He initialization (Kaiming initialization in PyTorch)\n",
    "        # which is suitable for ReLU activation functions.\n",
    "        for m in self.modules():\n",
    "            if isinstance(m, nn.Conv2d):\n",
    "                nn.init.kaiming_normal_(m.weight, mode='fan_out', nonlinearity='relu')\n",
    "            elif isinstance(m, nn.BatchNorm2d):\n",
    "                nn.init.constant_(m.weight, 1)\n",
    "                nn.init.constant_(m.bias, 0)\n",
    "            elif isinstance(m, nn.Linear):\n",
    "                nn.init.kaiming_normal_(m.weight, mode='fan_out', nonlinearity='relu')\n",
    "                nn.init.constant_(m.bias, 0)\n",
    "\n",
    "\n",
    "    def forward(self, x):\n",
    "        \"\"\"\n",
    "        Defines the forward pass of the CNN.\n",
    "\n",
    "        Args:\n",
    "            x (torch.Tensor): The input mel-spectrogram tensor\n",
    "                              (batch_size, 1, 128, 800).\n",
    "\n",
    "        Returns:\n",
    "            torch.Tensor: The output logits for each class (batch_size, num_classes).\n",
    "        \"\"\"\n",
    "        # Block 1\n",
    "        x = self.conv1a(x)\n",
    "        x = self.conv1b(x)\n",
    "        x = self.bn1(x)\n",
    "        x = F.relu(x)\n",
    "        x = self.pool1(x)\n",
    "\n",
    "        # Block 2\n",
    "        x = self.conv2a(x)\n",
    "        x = self.conv2b(x)\n",
    "        x = self.bn2(x)\n",
    "        x = F.relu(x)\n",
    "        x = self.pool2(x)\n",
    "\n",
    "        # Block 3\n",
    "        x = self.conv3a(x)\n",
    "        x = self.conv3b(x)\n",
    "        x = self.bn3(x)\n",
    "        x = F.relu(x)\n",
    "        x = self.pool3(x)\n",
    "\n",
    "        # Flatten the output for the fully connected layer\n",
    "        x = torch.flatten(x, 1) # Flatten starting from dimension 1 (channels)\n",
    "\n",
    "        # Fully connected layer\n",
    "        x = self.fc1(x)\n",
    "\n",
    "        # Note: No Softmax here, as CrossEntropyLoss in PyTorch typically\n",
    "        # expects raw scores (logits).\n",
    "\n",
    "        return x"
   ]
  },
  {
   "cell_type": "code",
   "execution_count": 11,
   "id": "99ad1cba",
   "metadata": {},
   "outputs": [
    {
     "name": "stdout",
     "output_type": "stream",
     "text": [
      "Tensor shape : torch.Size([1, 128, 801])\n",
      "Forward OK, logits shape: torch.Size([1, 6])\n"
     ]
    }
   ],
   "source": [
    "ds = SpectrogramDataset(ROOT, label_to_id, transform=MinMaxNorm())\n",
    "X, y = ds[0]\n",
    "print(\"Tensor shape :\", X.shape)      # -> (1, 128, T)\n",
    "model = LaraCNN(num_classes=len(label_to_id))\n",
    "out = model(X.unsqueeze(0))           # add batch dim\n",
    "print(\"Forward OK, logits shape:\", out.shape)"
   ]
  },
  {
   "cell_type": "markdown",
   "id": "9541200f",
   "metadata": {},
   "source": [
    "# Training and Evaluation"
   ]
  },
  {
   "cell_type": "code",
   "execution_count": 12,
   "id": "903317ba",
   "metadata": {},
   "outputs": [],
   "source": [
    "device  = torch.device('cuda' if torch.cuda.is_available() else 'cpu')\n",
    "model   = LaraCNN(num_classes=len(label_to_id)).to(device)\n",
    "opt     = optim.Adam(model.parameters(), lr=1e-3)\n",
    "\n",
    "BEST_ACC, PATIENCE, wait = 0, 3, 0\n",
    "best_state = None\n",
    "\n",
    "def run_epoch(model, loader, train=True):\n",
    "    ep_loss, correct, total = 0., 0, 0\n",
    "    model.train() if train else model.eval()\n",
    "    loop = tqdm(loader, leave=False, desc='train' if train else 'val')\n",
    "    for X, y in loop:\n",
    "        X, y = X.to(device), y.to(device)\n",
    "        with torch.set_grad_enabled(train):\n",
    "            out   = model(X)\n",
    "            loss  = F.cross_entropy(out, y)\n",
    "            preds = out.argmax(1)\n",
    "            if train:\n",
    "                opt.zero_grad(); loss.backward(); opt.step()\n",
    "        ep_loss += loss.item()*X.size(0)\n",
    "        correct += (preds==y).sum().item()\n",
    "        total   += y.size(0)\n",
    "        loop.set_postfix(loss=loss.item())\n",
    "    return ep_loss/total, correct/total"
   ]
  },
  {
   "cell_type": "code",
   "execution_count": 13,
   "id": "f7e79d9d",
   "metadata": {},
   "outputs": [],
   "source": [
    "def train_one_epoch(model, loader, optimizer, device, epoch):\n",
    "    model.train()\n",
    "    total_loss = 0\n",
    "\n",
    "    progress = tqdm(loader, desc=f\"Epoch {epoch} [train]\", leave=False)\n",
    "    for X, y in progress:\n",
    "        X, y = X.to(device), y.to(device)\n",
    "\n",
    "        logits = model(X)\n",
    "        loss   = F.cross_entropy(logits, y)\n",
    "\n",
    "        optimizer.zero_grad()\n",
    "        loss.backward()\n",
    "        optimizer.step()\n",
    "\n",
    "        total_loss += loss.item() * X.size(0)\n",
    "\n",
    "        # live update\n",
    "        progress.set_postfix(loss=loss.item())\n",
    "\n",
    "    return total_loss / len(loader.dataset)\n",
    "\n",
    "def evaluate(model, loader, device, epoch):\n",
    "    model.eval()\n",
    "    correct = 0\n",
    "\n",
    "    progress = tqdm(loader, desc=f\"Epoch {epoch} [val]\" , leave=False)\n",
    "    with torch.no_grad():\n",
    "        for X, y in progress:\n",
    "            X, y = X.to(device), y.to(device)\n",
    "            preds = model(X).argmax(dim=1)\n",
    "            correct += (preds == y).sum().item()\n",
    "\n",
    "    return correct / len(loader.dataset)"
   ]
  },
  {
   "cell_type": "code",
   "execution_count": 14,
   "id": "55773156",
   "metadata": {},
   "outputs": [
    {
     "data": {
      "application/vnd.jupyter.widget-view+json": {
       "model_id": "e86fccff7e1b46398142c116d9c7d764",
       "version_major": 2,
       "version_minor": 0
      },
      "text/plain": [
       "train:   0%|          | 0/48 [00:00<?, ?it/s]"
      ]
     },
     "metadata": {},
     "output_type": "display_data"
    },
    {
     "data": {
      "application/vnd.jupyter.widget-view+json": {
       "model_id": "f0f3780921d443b085d40e5ab662ba78",
       "version_major": 2,
       "version_minor": 0
      },
      "text/plain": [
       "val:   0%|          | 0/9 [00:00<?, ?it/s]"
      ]
     },
     "metadata": {},
     "output_type": "display_data"
    },
    {
     "name": "stdout",
     "output_type": "stream",
     "text": [
      "Epoch 01 | train loss 68.7835 acc 0.241 || val loss 35.3647 acc 0.302 | time 42.8s\n",
      "  📌 New best model saved.\n"
     ]
    },
    {
     "data": {
      "application/vnd.jupyter.widget-view+json": {
       "model_id": "7b1b28d1c12f4a83aa337d5d14c6e60a",
       "version_major": 2,
       "version_minor": 0
      },
      "text/plain": [
       "train:   0%|          | 0/48 [00:00<?, ?it/s]"
      ]
     },
     "metadata": {},
     "output_type": "display_data"
    },
    {
     "data": {
      "application/vnd.jupyter.widget-view+json": {
       "model_id": "7cd04e7ddbb94e048b74c1d64870768b",
       "version_major": 2,
       "version_minor": 0
      },
      "text/plain": [
       "val:   0%|          | 0/9 [00:00<?, ?it/s]"
      ]
     },
     "metadata": {},
     "output_type": "display_data"
    },
    {
     "name": "stdout",
     "output_type": "stream",
     "text": [
      "Epoch 02 | train loss 35.4459 acc 0.324 || val loss 33.1178 acc 0.310 | time 47.6s\n",
      "  📌 New best model saved.\n"
     ]
    },
    {
     "data": {
      "application/vnd.jupyter.widget-view+json": {
       "model_id": "0b340983d1f24e87a6c708f16772e876",
       "version_major": 2,
       "version_minor": 0
      },
      "text/plain": [
       "train:   0%|          | 0/48 [00:00<?, ?it/s]"
      ]
     },
     "metadata": {},
     "output_type": "display_data"
    },
    {
     "data": {
      "application/vnd.jupyter.widget-view+json": {
       "model_id": "d1b1ee9092ab4a3b8c1f659f525c5769",
       "version_major": 2,
       "version_minor": 0
      },
      "text/plain": [
       "val:   0%|          | 0/9 [00:00<?, ?it/s]"
      ]
     },
     "metadata": {},
     "output_type": "display_data"
    },
    {
     "name": "stdout",
     "output_type": "stream",
     "text": [
      "Epoch 03 | train loss 26.2819 acc 0.364 || val loss 27.0738 acc 0.343 | time 44.9s\n",
      "  📌 New best model saved.\n"
     ]
    },
    {
     "data": {
      "application/vnd.jupyter.widget-view+json": {
       "model_id": "e6e346e92a914664bdc7e60acb84e078",
       "version_major": 2,
       "version_minor": 0
      },
      "text/plain": [
       "train:   0%|          | 0/48 [00:00<?, ?it/s]"
      ]
     },
     "metadata": {},
     "output_type": "display_data"
    },
    {
     "data": {
      "application/vnd.jupyter.widget-view+json": {
       "model_id": "b5a0dfb2e5c74c8eaac51d15f241bd33",
       "version_major": 2,
       "version_minor": 0
      },
      "text/plain": [
       "val:   0%|          | 0/9 [00:00<?, ?it/s]"
      ]
     },
     "metadata": {},
     "output_type": "display_data"
    },
    {
     "name": "stdout",
     "output_type": "stream",
     "text": [
      "Epoch 04 | train loss 21.1106 acc 0.389 || val loss 22.5390 acc 0.343 | time 50.8s\n"
     ]
    },
    {
     "data": {
      "application/vnd.jupyter.widget-view+json": {
       "model_id": "da10773ebb4b45289e1a033487d5bb1c",
       "version_major": 2,
       "version_minor": 0
      },
      "text/plain": [
       "train:   0%|          | 0/48 [00:00<?, ?it/s]"
      ]
     },
     "metadata": {},
     "output_type": "display_data"
    },
    {
     "data": {
      "application/vnd.jupyter.widget-view+json": {
       "model_id": "d81b73a1729a44d8bbf8ce5520fe2235",
       "version_major": 2,
       "version_minor": 0
      },
      "text/plain": [
       "val:   0%|          | 0/9 [00:00<?, ?it/s]"
      ]
     },
     "metadata": {},
     "output_type": "display_data"
    },
    {
     "name": "stdout",
     "output_type": "stream",
     "text": [
      "Epoch 05 | train loss 17.5796 acc 0.428 || val loss 23.7141 acc 0.284 | time 47.2s\n"
     ]
    },
    {
     "data": {
      "application/vnd.jupyter.widget-view+json": {
       "model_id": "e860063ca93a4436872ea13a5e126fb0",
       "version_major": 2,
       "version_minor": 0
      },
      "text/plain": [
       "train:   0%|          | 0/48 [00:00<?, ?it/s]"
      ]
     },
     "metadata": {},
     "output_type": "display_data"
    },
    {
     "data": {
      "application/vnd.jupyter.widget-view+json": {
       "model_id": "b36831ec2ee444d7aaa3ead49b9f5bf4",
       "version_major": 2,
       "version_minor": 0
      },
      "text/plain": [
       "val:   0%|          | 0/9 [00:00<?, ?it/s]"
      ]
     },
     "metadata": {},
     "output_type": "display_data"
    },
    {
     "name": "stdout",
     "output_type": "stream",
     "text": [
      "Epoch 06 | train loss 13.9697 acc 0.449 || val loss 20.7664 acc 0.422 | time 52.3s\n",
      "  📌 New best model saved.\n"
     ]
    },
    {
     "data": {
      "application/vnd.jupyter.widget-view+json": {
       "model_id": "8e0a81b7ee4f457aba881e3469d2c97d",
       "version_major": 2,
       "version_minor": 0
      },
      "text/plain": [
       "train:   0%|          | 0/48 [00:00<?, ?it/s]"
      ]
     },
     "metadata": {},
     "output_type": "display_data"
    },
    {
     "data": {
      "application/vnd.jupyter.widget-view+json": {
       "model_id": "1f60ca1e0e7a44b2b79757afce931b2a",
       "version_major": 2,
       "version_minor": 0
      },
      "text/plain": [
       "val:   0%|          | 0/9 [00:00<?, ?it/s]"
      ]
     },
     "metadata": {},
     "output_type": "display_data"
    },
    {
     "name": "stdout",
     "output_type": "stream",
     "text": [
      "Epoch 07 | train loss 12.2974 acc 0.493 || val loss 27.2764 acc 0.291 | time 52.9s\n"
     ]
    },
    {
     "data": {
      "application/vnd.jupyter.widget-view+json": {
       "model_id": "1cbd21ecbf9d489cb3c4cc9d72919303",
       "version_major": 2,
       "version_minor": 0
      },
      "text/plain": [
       "train:   0%|          | 0/48 [00:00<?, ?it/s]"
      ]
     },
     "metadata": {},
     "output_type": "display_data"
    },
    {
     "data": {
      "application/vnd.jupyter.widget-view+json": {
       "model_id": "6cfc4f539ea946e4879d856a3e599ea1",
       "version_major": 2,
       "version_minor": 0
      },
      "text/plain": [
       "val:   0%|          | 0/9 [00:00<?, ?it/s]"
      ]
     },
     "metadata": {},
     "output_type": "display_data"
    },
    {
     "name": "stdout",
     "output_type": "stream",
     "text": [
      "Epoch 08 | train loss 10.1826 acc 0.538 || val loss 19.3270 acc 0.347 | time 52.1s\n"
     ]
    },
    {
     "data": {
      "application/vnd.jupyter.widget-view+json": {
       "model_id": "dbaeb64c9e36458d8926fa02aa1cf579",
       "version_major": 2,
       "version_minor": 0
      },
      "text/plain": [
       "train:   0%|          | 0/48 [00:00<?, ?it/s]"
      ]
     },
     "metadata": {},
     "output_type": "display_data"
    },
    {
     "data": {
      "application/vnd.jupyter.widget-view+json": {
       "model_id": "5fa7d1cdb3314e71ab0c0a0bad6e1411",
       "version_major": 2,
       "version_minor": 0
      },
      "text/plain": [
       "val:   0%|          | 0/9 [00:00<?, ?it/s]"
      ]
     },
     "metadata": {},
     "output_type": "display_data"
    },
    {
     "name": "stdout",
     "output_type": "stream",
     "text": [
      "Epoch 09 | train loss 9.1987 acc 0.541 || val loss 15.9919 acc 0.429 | time 52.2s\n",
      "  📌 New best model saved.\n"
     ]
    },
    {
     "data": {
      "application/vnd.jupyter.widget-view+json": {
       "model_id": "951b63356ed64227b6497c951d67ef6c",
       "version_major": 2,
       "version_minor": 0
      },
      "text/plain": [
       "train:   0%|          | 0/48 [00:00<?, ?it/s]"
      ]
     },
     "metadata": {},
     "output_type": "display_data"
    },
    {
     "data": {
      "application/vnd.jupyter.widget-view+json": {
       "model_id": "8306a864af514b77a50536baad56e6bf",
       "version_major": 2,
       "version_minor": 0
      },
      "text/plain": [
       "val:   0%|          | 0/9 [00:00<?, ?it/s]"
      ]
     },
     "metadata": {},
     "output_type": "display_data"
    },
    {
     "name": "stdout",
     "output_type": "stream",
     "text": [
      "Epoch 10 | train loss 7.9562 acc 0.551 || val loss 17.1916 acc 0.418 | time 52.6s\n"
     ]
    },
    {
     "data": {
      "application/vnd.jupyter.widget-view+json": {
       "model_id": "e52d349300f84aea9a6aecc9eab678f4",
       "version_major": 2,
       "version_minor": 0
      },
      "text/plain": [
       "train:   0%|          | 0/48 [00:00<?, ?it/s]"
      ]
     },
     "metadata": {},
     "output_type": "display_data"
    },
    {
     "data": {
      "application/vnd.jupyter.widget-view+json": {
       "model_id": "29a5ed831c814b4da57d90c29aeedac4",
       "version_major": 2,
       "version_minor": 0
      },
      "text/plain": [
       "val:   0%|          | 0/9 [00:00<?, ?it/s]"
      ]
     },
     "metadata": {},
     "output_type": "display_data"
    },
    {
     "name": "stdout",
     "output_type": "stream",
     "text": [
      "Epoch 11 | train loss 7.2752 acc 0.551 || val loss 14.9427 acc 0.422 | time 52.6s\n"
     ]
    },
    {
     "data": {
      "application/vnd.jupyter.widget-view+json": {
       "model_id": "eb89d4f6ea064f7287c8ca463dfde369",
       "version_major": 2,
       "version_minor": 0
      },
      "text/plain": [
       "train:   0%|          | 0/48 [00:00<?, ?it/s]"
      ]
     },
     "metadata": {},
     "output_type": "display_data"
    },
    {
     "data": {
      "application/vnd.jupyter.widget-view+json": {
       "model_id": "c5073614cdb6463184eee33b95032d7c",
       "version_major": 2,
       "version_minor": 0
      },
      "text/plain": [
       "val:   0%|          | 0/9 [00:00<?, ?it/s]"
      ]
     },
     "metadata": {},
     "output_type": "display_data"
    },
    {
     "name": "stdout",
     "output_type": "stream",
     "text": [
      "Epoch 12 | train loss 6.4725 acc 0.594 || val loss 17.1040 acc 0.466 | time 52.8s\n",
      "  📌 New best model saved.\n"
     ]
    },
    {
     "data": {
      "application/vnd.jupyter.widget-view+json": {
       "model_id": "452ab0870ffe42d6beb304fed53e42c8",
       "version_major": 2,
       "version_minor": 0
      },
      "text/plain": [
       "train:   0%|          | 0/48 [00:00<?, ?it/s]"
      ]
     },
     "metadata": {},
     "output_type": "display_data"
    },
    {
     "data": {
      "application/vnd.jupyter.widget-view+json": {
       "model_id": "9f24d9d873dd4f479a4bf1bd9bcf563e",
       "version_major": 2,
       "version_minor": 0
      },
      "text/plain": [
       "val:   0%|          | 0/9 [00:00<?, ?it/s]"
      ]
     },
     "metadata": {},
     "output_type": "display_data"
    },
    {
     "name": "stdout",
     "output_type": "stream",
     "text": [
      "Epoch 13 | train loss 6.8887 acc 0.571 || val loss 13.6567 acc 0.455 | time 53.0s\n"
     ]
    },
    {
     "data": {
      "application/vnd.jupyter.widget-view+json": {
       "model_id": "f4cc75f04ab0411583dcf3ec1c531c5a",
       "version_major": 2,
       "version_minor": 0
      },
      "text/plain": [
       "train:   0%|          | 0/48 [00:00<?, ?it/s]"
      ]
     },
     "metadata": {},
     "output_type": "display_data"
    },
    {
     "data": {
      "application/vnd.jupyter.widget-view+json": {
       "model_id": "7948df131cfc4800a131f10f35113449",
       "version_major": 2,
       "version_minor": 0
      },
      "text/plain": [
       "val:   0%|          | 0/9 [00:00<?, ?it/s]"
      ]
     },
     "metadata": {},
     "output_type": "display_data"
    },
    {
     "name": "stdout",
     "output_type": "stream",
     "text": [
      "Epoch 14 | train loss 5.2864 acc 0.637 || val loss 14.5135 acc 0.410 | time 53.0s\n"
     ]
    },
    {
     "data": {
      "application/vnd.jupyter.widget-view+json": {
       "model_id": "b0ba7cca74384d3fab74e5bb9d791091",
       "version_major": 2,
       "version_minor": 0
      },
      "text/plain": [
       "train:   0%|          | 0/48 [00:00<?, ?it/s]"
      ]
     },
     "metadata": {},
     "output_type": "display_data"
    },
    {
     "data": {
      "application/vnd.jupyter.widget-view+json": {
       "model_id": "eaa09308800249e0a2932b36e2097b0e",
       "version_major": 2,
       "version_minor": 0
      },
      "text/plain": [
       "val:   0%|          | 0/9 [00:00<?, ?it/s]"
      ]
     },
     "metadata": {},
     "output_type": "display_data"
    },
    {
     "name": "stdout",
     "output_type": "stream",
     "text": [
      "Epoch 15 | train loss 4.6593 acc 0.670 || val loss 14.8148 acc 0.526 | time 53.4s\n",
      "  📌 New best model saved.\n"
     ]
    },
    {
     "data": {
      "application/vnd.jupyter.widget-view+json": {
       "model_id": "1c612090f9cf4de586b0cf64069e8c27",
       "version_major": 2,
       "version_minor": 0
      },
      "text/plain": [
       "train:   0%|          | 0/48 [00:00<?, ?it/s]"
      ]
     },
     "metadata": {},
     "output_type": "display_data"
    },
    {
     "data": {
      "application/vnd.jupyter.widget-view+json": {
       "model_id": "168db2d7e4cd42c19cbf0e9d6550aea7",
       "version_major": 2,
       "version_minor": 0
      },
      "text/plain": [
       "val:   0%|          | 0/9 [00:00<?, ?it/s]"
      ]
     },
     "metadata": {},
     "output_type": "display_data"
    },
    {
     "name": "stdout",
     "output_type": "stream",
     "text": [
      "Epoch 16 | train loss 4.8848 acc 0.648 || val loss 14.7726 acc 0.459 | time 55.0s\n"
     ]
    },
    {
     "data": {
      "application/vnd.jupyter.widget-view+json": {
       "model_id": "e3b2662066d24d51bddb74b3275511e4",
       "version_major": 2,
       "version_minor": 0
      },
      "text/plain": [
       "train:   0%|          | 0/48 [00:00<?, ?it/s]"
      ]
     },
     "metadata": {},
     "output_type": "display_data"
    },
    {
     "data": {
      "application/vnd.jupyter.widget-view+json": {
       "model_id": "0356647628bc44d9876762c6d7223a80",
       "version_major": 2,
       "version_minor": 0
      },
      "text/plain": [
       "val:   0%|          | 0/9 [00:00<?, ?it/s]"
      ]
     },
     "metadata": {},
     "output_type": "display_data"
    },
    {
     "name": "stdout",
     "output_type": "stream",
     "text": [
      "Epoch 17 | train loss 3.8729 acc 0.672 || val loss 17.0667 acc 0.422 | time 62.2s\n"
     ]
    },
    {
     "data": {
      "application/vnd.jupyter.widget-view+json": {
       "model_id": "0747135b49f940eebf7ee54383163d3f",
       "version_major": 2,
       "version_minor": 0
      },
      "text/plain": [
       "train:   0%|          | 0/48 [00:00<?, ?it/s]"
      ]
     },
     "metadata": {},
     "output_type": "display_data"
    },
    {
     "data": {
      "application/vnd.jupyter.widget-view+json": {
       "model_id": "731db22dbd6f4a099513664f2baafdff",
       "version_major": 2,
       "version_minor": 0
      },
      "text/plain": [
       "val:   0%|          | 0/9 [00:00<?, ?it/s]"
      ]
     },
     "metadata": {},
     "output_type": "display_data"
    },
    {
     "name": "stdout",
     "output_type": "stream",
     "text": [
      "Epoch 18 | train loss 3.8333 acc 0.686 || val loss 16.6735 acc 0.425 | time 73.7s\n",
      "Early stopping triggered.\n"
     ]
    }
   ],
   "source": [
    "EPOCHS = 20\n",
    "for epoch in range(1, EPOCHS+1):\n",
    "    t0 = time.time()\n",
    "    tr_loss, tr_acc = run_epoch(model, train_loader, True)\n",
    "    val_loss, val_acc = run_epoch(model, val_loader, False)\n",
    "    \n",
    "    print(f\"Epoch {epoch:02d} | \"\n",
    "          f\"train loss {tr_loss:.4f} acc {tr_acc:.3f} || \"\n",
    "          f\"val loss {val_loss:.4f} acc {val_acc:.3f} | \"\n",
    "          f\"time {time.time()-t0:.1f}s\")\n",
    "\n",
    "    # -- checkpoint & early‑stopping\n",
    "    if val_acc > BEST_ACC + 1e-3:\n",
    "        BEST_ACC, wait, best_state = val_acc, 0, copy.deepcopy(model.state_dict())\n",
    "        torch.save(best_state, 'best_laracnn.pt')\n",
    "        print(\"  📌 New best model saved.\")\n",
    "    else:\n",
    "        wait += 1\n",
    "        if wait >= PATIENCE:\n",
    "            print(\"Early stopping triggered.\")\n",
    "            break\n",
    "\n",
    "# restore best weights\n",
    "if best_state: model.load_state_dict(best_state)"
   ]
  },
  {
   "cell_type": "markdown",
   "id": "f1a599fa",
   "metadata": {},
   "source": [
    "# Final Metrics and Confusion Matrix"
   ]
  },
  {
   "cell_type": "code",
   "execution_count": 15,
   "id": "e2065f33",
   "metadata": {},
   "outputs": [
    {
     "name": "stdout",
     "output_type": "stream",
     "text": [
      "              precision    recall  f1-score   support\n",
      "\n",
      "  BellsHorns       0.54      0.50      0.52        26\n",
      "   Keyboards       0.51      0.71      0.59        34\n",
      "       Other       0.05      0.03      0.04        34\n",
      "  Percussion       0.75      0.60      0.67        55\n",
      "     Strings       0.49      0.64      0.55        77\n",
      "        Wind       0.64      0.50      0.56        42\n",
      "\n",
      "    accuracy                           0.53       268\n",
      "   macro avg       0.50      0.50      0.49       268\n",
      "weighted avg       0.52      0.53      0.51       268\n",
      "\n"
     ]
    },
    {
     "data": {
      "image/png": "[encoded data removed]",
      "text/plain": [
       "<Figure size 600x500 with 2 Axes>"
      ]
     },
     "metadata": {},
     "output_type": "display_data"
    }
   ],
   "source": [
    "y_true, y_pred = [], []\n",
    "model.eval()\n",
    "with torch.no_grad():\n",
    "    for X, y in val_loader:\n",
    "        out = model(X.to(device))\n",
    "        y_true.extend(y)\n",
    "        y_pred.extend(out.argmax(1).cpu())\n",
    "\n",
    "print(classification_report(y_true, y_pred,\n",
    "                            target_names=list(label_to_id.keys())))\n",
    "\n",
    "cm = confusion_matrix(y_true, y_pred, normalize='true')\n",
    "plt.figure(figsize=(6,5))\n",
    "sns.heatmap(cm, annot=True, cmap='rocket', xticklabels=label_to_id.keys(),\n",
    "            yticklabels=label_to_id.keys(), fmt=\".2f\")\n",
    "plt.title(\"Normalized Confusion Matrix\")\n",
    "plt.show()"
   ]
  },
  {
   "cell_type": "markdown",
   "id": "5420c9a4",
   "metadata": {},
   "source": [
    "# **Conclusion**\n",
    "\n",
    "## Sample distribution of the dataset\n",
    "| Class       | Count | Percent |\n",
    "|-------------|-------|---------|\n",
    "| Strings     | 512   | 25.2%   |\n",
    "| Percussion  | 364   | 18.0%   |\n",
    "| Wind        | 283   | 13.9%   |\n",
    "| Keyboards   | 230   | 11.3%   |\n",
    "| Other       | 226   | 11.1%   |\n",
    "| BellsHorns  | 171   | 8.4%    |\n",
    "\n",
    "String, Percussion, and Wind are the three most common classes\n",
    "\n",
    "## Performance Overview\n",
    "\n",
    "| Class       | Precision | Recall | F1   | Support (Val) | Notes                                                                 |\n",
    "|-------------|-----------|--------|------|---------------|-----------------------------------------------------------------------|\n",
    "| Percussion  | 0.75      | 0.60   | 0.67 | 55            | Excellent precision, decent recall. Model is confident and correct when it predicts this class. |\n",
    "| Keyboards   | 0.51      | 0.71   | 0.59 | 34            | High recall, model tends to over-predict this class.                  |\n",
    "| Strings     | 0.49      | 0.64   | 0.55 | 77            | Solid F1; consistent given it’s the largest class.                    |\n",
    "| Wind        | 0.64      | 0.50   | 0.56 | 42            | Good precision, moderate recall.                                      |\n",
    "| BellsHorns  | 0.54      | 0.50   | 0.52 | 26            | Decent balance given small sample size.                               |\n",
    "| Other       | 0.05      | 0.03   | 0.04 | 34            | Poor performance. Mostly misclassified as Strings or Keyboards.     |\n",
    "\n",
    "\n",
    "# Overall Performance\n",
    "\n",
    "The model had a accuray score of 0.53, which is basically just as good as randomly guessing the classes. Of the classes the model is able to learn Percussion, Keyboards, and Strings the best (F1 scores ranked). Of the classes, Percussion was the most distinctive and the model was able to confidently predict it, which is shown in the high precision score. Worst of all the classes was Other, which has the worst F1 score of 0.04 which is so bad that it's honestly impressive. The near 0 score leads me to think that the data for other is just too broad or inconsistent to be able to learn any meaning up patterns. \n",
    "\n",
    "I wonder if binning all the musical labels into classes introduced too much noise into that dataset that made my models performance suffer. I would like to revisit my data preparation and see if I can find a better way to bin the classes. To push the performance even further, I would like to try using other models that lara mentioned in the paper. That was my original plan however I got caught up on the data preparation and was unable to get to it. Additionally, I really wanted to try using the attention mechanism from our in-class lectures to see if that would help the model learn the data better. I want to reproduce Lara's results and then try to improve upon them with different models and techniques, but I bit off more than I could chew. \n",
    "\n",
    "Future work would be to revisit my data preparation and retrieve more data from youtube. Additionally, processed the retrieved data even further to avoid the challenge of learning from an imbalanced dataset. Of course, I would also like to add a multi-layer attention mechanism to the model to see if that would help the model learn the data better. I expect that with these changes I will be able to reproduce lara's results and then improve upon them."
   ]
  }
 ],
 "metadata": {
  "kernelspec": {
   "display_name": "Python 3",
   "language": "python",
   "name": "python3"
  },
  "language_info": {
   "codemirror_mode": {
    "name": "ipython",
    "version": 3
   },
   "file_extension": ".py",
   "mimetype": "text/x-python",
   "name": "python",
   "nbconvert_exporter": "python",
   "pygments_lexer": "ipython3",
   "version": "3.11.12"
  }
 },
 "nbformat": 4,
 "nbformat_minor": 5
}
